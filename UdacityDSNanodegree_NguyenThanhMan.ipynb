{
  "cells": [
    {
      "cell_type": "markdown",
      "metadata": {
        "id": "ayjhvJV76dAS"
      },
      "source": [
        "Data Science - Nanodegree project.\n",
        "\n",
        "Author: Nguyen Thanh Man"
      ]
    },
    {
      "cell_type": "markdown",
      "metadata": {
        "id": "2F4Bf2n76dAW"
      },
      "source": [
        "---"
      ]
    },
    {
      "cell_type": "markdown",
      "metadata": {
        "id": "JLk6JJA56dAX"
      },
      "source": [
        "## Importing necessary libraries"
      ]
    },
    {
      "cell_type": "code",
      "execution_count": 1,
      "metadata": {
        "id": "ANUYkE5N6dAZ"
      },
      "outputs": [],
      "source": [
        "import numpy as np\n",
        "import pandas as pd\n",
        "import matplotlib.pyplot as plt\n",
        "from sklearn.linear_model import LinearRegression"
      ]
    },
    {
      "cell_type": "markdown",
      "metadata": {
        "id": "UUc4newR6dAb"
      },
      "source": [
        "## Data Introduction"
      ]
    },
    {
      "cell_type": "markdown",
      "metadata": {
        "id": "OwL0gcIZ6dAc"
      },
      "source": [
        "- The data used in this project provides information of suicide cases in major cities from 1985 to 2016, broken down into different gender and age groups, along with the population of each group and some information about the growth of that city during the year. You can find the source of this data [here](https://www.kaggle.com/russellyates88/suicide-rates-overview-1985-to-2016?select=master.csv).\n",
        "\n",
        "\n",
        "\n",
        "- License of the data can be found [here](https://www.worldbank.org/en/about/legal/terms-of-use-for-datasets).\n",
        "\n",
        "- The data was collected and compiled from 4 sources:\n",
        "\n",
        "    - [UNDP's Human development index (2018)](http://hdr.undp.org/en/indicators/137506)\n",
        "\n",
        "    - [World Bank's World development indicators: GDP (current US$) by country: 1985 to 2016 (2018)](http://databank.worldbank.org/data/source/world-development-indicators#)\n",
        "\n",
        "    - [Szamil's Suicide in the Twenty-First Century dataset (2017)](https://www.kaggle.com/szamil/suicide-in-the-twenty-first-century/notebook)\n",
        "\n",
        "    - [World Health Organization's Suicide prevention](http://www.who.int/mental_health/suicide-prevention/en/)"
      ]
    },
    {
      "cell_type": "markdown",
      "metadata": {
        "id": "WNZsgEGj6dAd"
      },
      "source": [
        "\n",
        "## Exploratory Data Analysis"
      ]
    },
    {
      "cell_type": "markdown",
      "metadata": {
        "id": "CT3BJqMO6dAe"
      },
      "source": [
        "### Read data to a DataFrame"
      ]
    },
    {
      "cell_type": "code",
      "execution_count": 2,
      "metadata": {
        "colab": {
          "base_uri": "https://localhost:8080/",
          "height": 206
        },
        "id": "pvPf99ds6dAf",
        "outputId": "e3879f29-1464-4530-84df-ffc86c20dd19"
      },
      "outputs": [
        {
          "output_type": "execute_result",
          "data": {
            "text/plain": [
              "   country  year     sex          age  suicides_no  population  \\\n",
              "0  Albania  1987    male  15-24 years           21      312900   \n",
              "1  Albania  1987    male  35-54 years           16      308000   \n",
              "2  Albania  1987  female  15-24 years           14      289700   \n",
              "3  Albania  1987    male    75+ years            1       21800   \n",
              "4  Albania  1987    male  25-34 years            9      274300   \n",
              "\n",
              "   suicides/100k pop country-year  HDI for year  gdp_for_year ($)   \\\n",
              "0               6.71  Albania1987           NaN      2,156,624,900   \n",
              "1               5.19  Albania1987           NaN      2,156,624,900   \n",
              "2               4.83  Albania1987           NaN      2,156,624,900   \n",
              "3               4.59  Albania1987           NaN      2,156,624,900   \n",
              "4               3.28  Albania1987           NaN      2,156,624,900   \n",
              "\n",
              "   gdp_per_capita ($)       generation  \n",
              "0                 796     Generation X  \n",
              "1                 796           Silent  \n",
              "2                 796     Generation X  \n",
              "3                 796  G.I. Generation  \n",
              "4                 796          Boomers  "
            ],
            "text/html": [
              "\n",
              "  <div id=\"df-b6d22a4c-52fe-44bb-a979-4f02fd999657\">\n",
              "    <div class=\"colab-df-container\">\n",
              "      <div>\n",
              "<style scoped>\n",
              "    .dataframe tbody tr th:only-of-type {\n",
              "        vertical-align: middle;\n",
              "    }\n",
              "\n",
              "    .dataframe tbody tr th {\n",
              "        vertical-align: top;\n",
              "    }\n",
              "\n",
              "    .dataframe thead th {\n",
              "        text-align: right;\n",
              "    }\n",
              "</style>\n",
              "<table border=\"1\" class=\"dataframe\">\n",
              "  <thead>\n",
              "    <tr style=\"text-align: right;\">\n",
              "      <th></th>\n",
              "      <th>country</th>\n",
              "      <th>year</th>\n",
              "      <th>sex</th>\n",
              "      <th>age</th>\n",
              "      <th>suicides_no</th>\n",
              "      <th>population</th>\n",
              "      <th>suicides/100k pop</th>\n",
              "      <th>country-year</th>\n",
              "      <th>HDI for year</th>\n",
              "      <th>gdp_for_year ($)</th>\n",
              "      <th>gdp_per_capita ($)</th>\n",
              "      <th>generation</th>\n",
              "    </tr>\n",
              "  </thead>\n",
              "  <tbody>\n",
              "    <tr>\n",
              "      <th>0</th>\n",
              "      <td>Albania</td>\n",
              "      <td>1987</td>\n",
              "      <td>male</td>\n",
              "      <td>15-24 years</td>\n",
              "      <td>21</td>\n",
              "      <td>312900</td>\n",
              "      <td>6.71</td>\n",
              "      <td>Albania1987</td>\n",
              "      <td>NaN</td>\n",
              "      <td>2,156,624,900</td>\n",
              "      <td>796</td>\n",
              "      <td>Generation X</td>\n",
              "    </tr>\n",
              "    <tr>\n",
              "      <th>1</th>\n",
              "      <td>Albania</td>\n",
              "      <td>1987</td>\n",
              "      <td>male</td>\n",
              "      <td>35-54 years</td>\n",
              "      <td>16</td>\n",
              "      <td>308000</td>\n",
              "      <td>5.19</td>\n",
              "      <td>Albania1987</td>\n",
              "      <td>NaN</td>\n",
              "      <td>2,156,624,900</td>\n",
              "      <td>796</td>\n",
              "      <td>Silent</td>\n",
              "    </tr>\n",
              "    <tr>\n",
              "      <th>2</th>\n",
              "      <td>Albania</td>\n",
              "      <td>1987</td>\n",
              "      <td>female</td>\n",
              "      <td>15-24 years</td>\n",
              "      <td>14</td>\n",
              "      <td>289700</td>\n",
              "      <td>4.83</td>\n",
              "      <td>Albania1987</td>\n",
              "      <td>NaN</td>\n",
              "      <td>2,156,624,900</td>\n",
              "      <td>796</td>\n",
              "      <td>Generation X</td>\n",
              "    </tr>\n",
              "    <tr>\n",
              "      <th>3</th>\n",
              "      <td>Albania</td>\n",
              "      <td>1987</td>\n",
              "      <td>male</td>\n",
              "      <td>75+ years</td>\n",
              "      <td>1</td>\n",
              "      <td>21800</td>\n",
              "      <td>4.59</td>\n",
              "      <td>Albania1987</td>\n",
              "      <td>NaN</td>\n",
              "      <td>2,156,624,900</td>\n",
              "      <td>796</td>\n",
              "      <td>G.I. Generation</td>\n",
              "    </tr>\n",
              "    <tr>\n",
              "      <th>4</th>\n",
              "      <td>Albania</td>\n",
              "      <td>1987</td>\n",
              "      <td>male</td>\n",
              "      <td>25-34 years</td>\n",
              "      <td>9</td>\n",
              "      <td>274300</td>\n",
              "      <td>3.28</td>\n",
              "      <td>Albania1987</td>\n",
              "      <td>NaN</td>\n",
              "      <td>2,156,624,900</td>\n",
              "      <td>796</td>\n",
              "      <td>Boomers</td>\n",
              "    </tr>\n",
              "  </tbody>\n",
              "</table>\n",
              "</div>\n",
              "      <button class=\"colab-df-convert\" onclick=\"convertToInteractive('df-b6d22a4c-52fe-44bb-a979-4f02fd999657')\"\n",
              "              title=\"Convert this dataframe to an interactive table.\"\n",
              "              style=\"display:none;\">\n",
              "        \n",
              "  <svg xmlns=\"http://www.w3.org/2000/svg\" height=\"24px\"viewBox=\"0 0 24 24\"\n",
              "       width=\"24px\">\n",
              "    <path d=\"M0 0h24v24H0V0z\" fill=\"none\"/>\n",
              "    <path d=\"M18.56 5.44l.94 2.06.94-2.06 2.06-.94-2.06-.94-.94-2.06-.94 2.06-2.06.94zm-11 1L8.5 8.5l.94-2.06 2.06-.94-2.06-.94L8.5 2.5l-.94 2.06-2.06.94zm10 10l.94 2.06.94-2.06 2.06-.94-2.06-.94-.94-2.06-.94 2.06-2.06.94z\"/><path d=\"M17.41 7.96l-1.37-1.37c-.4-.4-.92-.59-1.43-.59-.52 0-1.04.2-1.43.59L10.3 9.45l-7.72 7.72c-.78.78-.78 2.05 0 2.83L4 21.41c.39.39.9.59 1.41.59.51 0 1.02-.2 1.41-.59l7.78-7.78 2.81-2.81c.8-.78.8-2.07 0-2.86zM5.41 20L4 18.59l7.72-7.72 1.47 1.35L5.41 20z\"/>\n",
              "  </svg>\n",
              "      </button>\n",
              "      \n",
              "  <style>\n",
              "    .colab-df-container {\n",
              "      display:flex;\n",
              "      flex-wrap:wrap;\n",
              "      gap: 12px;\n",
              "    }\n",
              "\n",
              "    .colab-df-convert {\n",
              "      background-color: #E8F0FE;\n",
              "      border: none;\n",
              "      border-radius: 50%;\n",
              "      cursor: pointer;\n",
              "      display: none;\n",
              "      fill: #1967D2;\n",
              "      height: 32px;\n",
              "      padding: 0 0 0 0;\n",
              "      width: 32px;\n",
              "    }\n",
              "\n",
              "    .colab-df-convert:hover {\n",
              "      background-color: #E2EBFA;\n",
              "      box-shadow: 0px 1px 2px rgba(60, 64, 67, 0.3), 0px 1px 3px 1px rgba(60, 64, 67, 0.15);\n",
              "      fill: #174EA6;\n",
              "    }\n",
              "\n",
              "    [theme=dark] .colab-df-convert {\n",
              "      background-color: #3B4455;\n",
              "      fill: #D2E3FC;\n",
              "    }\n",
              "\n",
              "    [theme=dark] .colab-df-convert:hover {\n",
              "      background-color: #434B5C;\n",
              "      box-shadow: 0px 1px 3px 1px rgba(0, 0, 0, 0.15);\n",
              "      filter: drop-shadow(0px 1px 2px rgba(0, 0, 0, 0.3));\n",
              "      fill: #FFFFFF;\n",
              "    }\n",
              "  </style>\n",
              "\n",
              "      <script>\n",
              "        const buttonEl =\n",
              "          document.querySelector('#df-b6d22a4c-52fe-44bb-a979-4f02fd999657 button.colab-df-convert');\n",
              "        buttonEl.style.display =\n",
              "          google.colab.kernel.accessAllowed ? 'block' : 'none';\n",
              "\n",
              "        async function convertToInteractive(key) {\n",
              "          const element = document.querySelector('#df-b6d22a4c-52fe-44bb-a979-4f02fd999657');\n",
              "          const dataTable =\n",
              "            await google.colab.kernel.invokeFunction('convertToInteractive',\n",
              "                                                     [key], {});\n",
              "          if (!dataTable) return;\n",
              "\n",
              "          const docLinkHtml = 'Like what you see? Visit the ' +\n",
              "            '<a target=\"_blank\" href=https://colab.research.google.com/notebooks/data_table.ipynb>data table notebook</a>'\n",
              "            + ' to learn more about interactive tables.';\n",
              "          element.innerHTML = '';\n",
              "          dataTable['output_type'] = 'display_data';\n",
              "          await google.colab.output.renderOutput(dataTable, element);\n",
              "          const docLink = document.createElement('div');\n",
              "          docLink.innerHTML = docLinkHtml;\n",
              "          element.appendChild(docLink);\n",
              "        }\n",
              "      </script>\n",
              "    </div>\n",
              "  </div>\n",
              "  "
            ]
          },
          "metadata": {},
          "execution_count": 2
        }
      ],
      "source": [
        "df = pd.read_csv('./master.csv')\n",
        "df.head()"
      ]
    },
    {
      "cell_type": "markdown",
      "metadata": {
        "id": "8Y__c4tM6dAh"
      },
      "source": [
        "### Number of rows and columns"
      ]
    },
    {
      "cell_type": "code",
      "execution_count": 3,
      "metadata": {
        "colab": {
          "base_uri": "https://localhost:8080/"
        },
        "id": "JO126Lvb6dAh",
        "outputId": "a71fb46c-ce13-4bda-b15b-c49b121216f6"
      },
      "outputs": [
        {
          "output_type": "stream",
          "name": "stdout",
          "text": [
            "Dataset has 27820 rows and 12 cols\n"
          ]
        }
      ],
      "source": [
        "num_rows, num_cols = df.shape\n",
        "print(\"Dataset has {0} rows and {1} cols\".format(num_rows, num_cols))"
      ]
    },
    {
      "cell_type": "markdown",
      "metadata": {
        "id": "6dj6FQgr6dAj"
      },
      "source": [
        "### Meaning of each column and row"
      ]
    },
    {
      "cell_type": "markdown",
      "metadata": {
        "id": "DT9JzR1Y6dAj"
      },
      "source": [
        "Description for each column:\n",
        "- **country**: self-explanatory.\n",
        "- **year**: self-explanatory.\n",
        "- **sex**: self-explanatory.\n",
        "- **age**: age group of the record.\n",
        "- **suicides_no**: number of suicides.\n",
        "- **population**: the population that belongs to the respective age group and country.\n",
        "- **suicides/100k pop**: the suicide rate of the respective age group per 100k population.\n",
        "- **country-year**: the concatenation of **country** and **year** (this is redundant and will be removed).\n",
        "- **HDI for year**: The [Human Development Index](https://vi.wikipedia.org/wiki/Ch%E1%BB%89_s%E1%BB%91_ph%C3%A1t_tri%E1%BB%83n_con_ng%C6%B0%E1%BB%9Di) of the country in the respective year.\n",
        "- **gdp_for_year**: GDP of the respective year and country.\n",
        "- **gdp_per_capita**: GDP over population.\n",
        "- **generation**: the generation that belongs in this age group (this column has a problem that I will get into later).\n",
        "\n",
        "Each row is statistics of suicides and the respective country, age group, gender for each year."
      ]
    },
    {
      "cell_type": "markdown",
      "metadata": {
        "id": "j_oSk3ri6dAk"
      },
      "source": [
        "### Data types of columns"
      ]
    },
    {
      "cell_type": "code",
      "execution_count": 4,
      "metadata": {
        "colab": {
          "base_uri": "https://localhost:8080/"
        },
        "id": "FttbmCZe6dAk",
        "outputId": "a08b3a43-c582-4a0b-f901-624acbbfe194"
      },
      "outputs": [
        {
          "output_type": "execute_result",
          "data": {
            "text/plain": [
              "country                object\n",
              "year                    int64\n",
              "sex                    object\n",
              "age                    object\n",
              "suicides_no             int64\n",
              "population              int64\n",
              "suicides/100k pop     float64\n",
              "country-year           object\n",
              "HDI for year          float64\n",
              " gdp_for_year ($)      object\n",
              "gdp_per_capita ($)      int64\n",
              "generation             object\n",
              "dtype: object"
            ]
          },
          "metadata": {},
          "execution_count": 4
        }
      ],
      "source": [
        "col_dtypes = df.dtypes\n",
        "col_dtypes"
      ]
    },
    {
      "cell_type": "markdown",
      "metadata": {
        "id": "zW23CJAw6dAl"
      },
      "source": [
        "## Preprocessing"
      ]
    },
    {
      "cell_type": "markdown",
      "metadata": {
        "id": "OUdirEsl6dAm"
      },
      "source": [
        "### As mention above, **contry-year** is just the concatenation of country and year, so we can remove this column."
      ]
    },
    {
      "cell_type": "code",
      "execution_count": 5,
      "metadata": {
        "id": "4EXYP91N6dAm"
      },
      "outputs": [],
      "source": [
        "df.drop(columns='country-year', inplace=True)"
      ]
    },
    {
      "cell_type": "markdown",
      "metadata": {
        "id": "qPMCfIhf6dAn"
      },
      "source": [
        "### Rename columns so that they makes more sense"
      ]
    },
    {
      "cell_type": "code",
      "execution_count": 6,
      "metadata": {
        "id": "NCepe6fv6dAn"
      },
      "outputs": [],
      "source": [
        "df.rename(columns={\n",
        "    df.columns[2]: 'gender',\n",
        "    df.columns[4]: 'nsuicides',\n",
        "    df.columns[6]: 'crudeRate',\n",
        "    df.columns[7]: 'HDIyear',\n",
        "    df.columns[8]: 'GDPyear',\n",
        "    df.columns[9]: 'GDPcap'\n",
        "},\n",
        "          inplace=True)"
      ]
    },
    {
      "cell_type": "markdown",
      "metadata": {
        "id": "y0WlZVOz6dAo"
      },
      "source": [
        "### Remove suffix ' years' in the \"age\" column."
      ]
    },
    {
      "cell_type": "code",
      "execution_count": 7,
      "metadata": {
        "id": "KqfRC_166dAo"
      },
      "outputs": [],
      "source": [
        "df.age = df.age.str.replace(' years', '')"
      ]
    },
    {
      "cell_type": "markdown",
      "metadata": {
        "id": "Egagv2ZD6dAo"
      },
      "source": [
        "### Fix all \"5-14\"s in \"age\" column so they can be sorted correctly"
      ]
    },
    {
      "cell_type": "code",
      "execution_count": 8,
      "metadata": {
        "id": "lw7QAxmq6dAp"
      },
      "outputs": [],
      "source": [
        "df.loc[df.age == '5-14', 'age'] = '05-14'"
      ]
    },
    {
      "cell_type": "markdown",
      "metadata": {
        "id": "9Ssc30rj6dAp"
      },
      "source": [
        "### Change dtype of \"GDPyear\" to numeric"
      ]
    },
    {
      "cell_type": "code",
      "execution_count": 9,
      "metadata": {
        "id": "0X68JdM96dAq"
      },
      "outputs": [],
      "source": [
        "df.GDPyear = df.GDPyear.str.replace(',', '') #removing commas\n",
        "df.GDPyear = pd.to_numeric(df.GDPyear)"
      ]
    },
    {
      "cell_type": "markdown",
      "metadata": {
        "id": "6l6oNgZ_6dAq"
      },
      "source": [
        "## Let's get back to EDA\n",
        "\n"
      ]
    },
    {
      "cell_type": "code",
      "execution_count": 10,
      "metadata": {
        "colab": {
          "base_uri": "https://localhost:8080/"
        },
        "id": "DSjBw2Sb6dAr",
        "outputId": "2313b75a-b727-48bd-b95d-a71a587f2af6"
      },
      "outputs": [
        {
          "output_type": "stream",
          "name": "stdout",
          "text": [
            "<class 'pandas.core.frame.DataFrame'>\n",
            "RangeIndex: 27820 entries, 0 to 27819\n",
            "Data columns (total 11 columns):\n",
            " #   Column      Non-Null Count  Dtype  \n",
            "---  ------      --------------  -----  \n",
            " 0   country     27820 non-null  object \n",
            " 1   year        27820 non-null  int64  \n",
            " 2   gender      27820 non-null  object \n",
            " 3   age         27820 non-null  object \n",
            " 4   nsuicides   27820 non-null  int64  \n",
            " 5   population  27820 non-null  int64  \n",
            " 6   crudeRate   27820 non-null  float64\n",
            " 7   HDIyear     8364 non-null   float64\n",
            " 8   GDPyear     27820 non-null  int64  \n",
            " 9   GDPcap      27820 non-null  int64  \n",
            " 10  generation  27820 non-null  object \n",
            "dtypes: float64(2), int64(5), object(4)\n",
            "memory usage: 2.3+ MB\n"
          ]
        }
      ],
      "source": [
        "df.info()"
      ]
    },
    {
      "cell_type": "markdown",
      "metadata": {
        "id": "yjYRf4Oj6dAs"
      },
      "source": [
        "### Ranges of numeric columns"
      ]
    },
    {
      "cell_type": "code",
      "execution_count": 11,
      "metadata": {
        "colab": {
          "base_uri": "https://localhost:8080/",
          "height": 112
        },
        "id": "UY1sYkR96dAs",
        "outputId": "ead90392-47fb-4740-b7ac-aeb75b0008fa"
      },
      "outputs": [
        {
          "output_type": "execute_result",
          "data": {
            "text/plain": [
              "     nsuicides  population  crudeRate  HDIyear         GDPyear  GDPcap\n",
              "min          0         278       0.00    0.483        46919625     251\n",
              "max      22338    43805214     224.97    0.944  18120714000000  126352"
            ],
            "text/html": [
              "\n",
              "  <div id=\"df-89b44c62-67ee-4fc5-b5cf-628cbc50dc1a\">\n",
              "    <div class=\"colab-df-container\">\n",
              "      <div>\n",
              "<style scoped>\n",
              "    .dataframe tbody tr th:only-of-type {\n",
              "        vertical-align: middle;\n",
              "    }\n",
              "\n",
              "    .dataframe tbody tr th {\n",
              "        vertical-align: top;\n",
              "    }\n",
              "\n",
              "    .dataframe thead th {\n",
              "        text-align: right;\n",
              "    }\n",
              "</style>\n",
              "<table border=\"1\" class=\"dataframe\">\n",
              "  <thead>\n",
              "    <tr style=\"text-align: right;\">\n",
              "      <th></th>\n",
              "      <th>nsuicides</th>\n",
              "      <th>population</th>\n",
              "      <th>crudeRate</th>\n",
              "      <th>HDIyear</th>\n",
              "      <th>GDPyear</th>\n",
              "      <th>GDPcap</th>\n",
              "    </tr>\n",
              "  </thead>\n",
              "  <tbody>\n",
              "    <tr>\n",
              "      <th>min</th>\n",
              "      <td>0</td>\n",
              "      <td>278</td>\n",
              "      <td>0.00</td>\n",
              "      <td>0.483</td>\n",
              "      <td>46919625</td>\n",
              "      <td>251</td>\n",
              "    </tr>\n",
              "    <tr>\n",
              "      <th>max</th>\n",
              "      <td>22338</td>\n",
              "      <td>43805214</td>\n",
              "      <td>224.97</td>\n",
              "      <td>0.944</td>\n",
              "      <td>18120714000000</td>\n",
              "      <td>126352</td>\n",
              "    </tr>\n",
              "  </tbody>\n",
              "</table>\n",
              "</div>\n",
              "      <button class=\"colab-df-convert\" onclick=\"convertToInteractive('df-89b44c62-67ee-4fc5-b5cf-628cbc50dc1a')\"\n",
              "              title=\"Convert this dataframe to an interactive table.\"\n",
              "              style=\"display:none;\">\n",
              "        \n",
              "  <svg xmlns=\"http://www.w3.org/2000/svg\" height=\"24px\"viewBox=\"0 0 24 24\"\n",
              "       width=\"24px\">\n",
              "    <path d=\"M0 0h24v24H0V0z\" fill=\"none\"/>\n",
              "    <path d=\"M18.56 5.44l.94 2.06.94-2.06 2.06-.94-2.06-.94-.94-2.06-.94 2.06-2.06.94zm-11 1L8.5 8.5l.94-2.06 2.06-.94-2.06-.94L8.5 2.5l-.94 2.06-2.06.94zm10 10l.94 2.06.94-2.06 2.06-.94-2.06-.94-.94-2.06-.94 2.06-2.06.94z\"/><path d=\"M17.41 7.96l-1.37-1.37c-.4-.4-.92-.59-1.43-.59-.52 0-1.04.2-1.43.59L10.3 9.45l-7.72 7.72c-.78.78-.78 2.05 0 2.83L4 21.41c.39.39.9.59 1.41.59.51 0 1.02-.2 1.41-.59l7.78-7.78 2.81-2.81c.8-.78.8-2.07 0-2.86zM5.41 20L4 18.59l7.72-7.72 1.47 1.35L5.41 20z\"/>\n",
              "  </svg>\n",
              "      </button>\n",
              "      \n",
              "  <style>\n",
              "    .colab-df-container {\n",
              "      display:flex;\n",
              "      flex-wrap:wrap;\n",
              "      gap: 12px;\n",
              "    }\n",
              "\n",
              "    .colab-df-convert {\n",
              "      background-color: #E8F0FE;\n",
              "      border: none;\n",
              "      border-radius: 50%;\n",
              "      cursor: pointer;\n",
              "      display: none;\n",
              "      fill: #1967D2;\n",
              "      height: 32px;\n",
              "      padding: 0 0 0 0;\n",
              "      width: 32px;\n",
              "    }\n",
              "\n",
              "    .colab-df-convert:hover {\n",
              "      background-color: #E2EBFA;\n",
              "      box-shadow: 0px 1px 2px rgba(60, 64, 67, 0.3), 0px 1px 3px 1px rgba(60, 64, 67, 0.15);\n",
              "      fill: #174EA6;\n",
              "    }\n",
              "\n",
              "    [theme=dark] .colab-df-convert {\n",
              "      background-color: #3B4455;\n",
              "      fill: #D2E3FC;\n",
              "    }\n",
              "\n",
              "    [theme=dark] .colab-df-convert:hover {\n",
              "      background-color: #434B5C;\n",
              "      box-shadow: 0px 1px 3px 1px rgba(0, 0, 0, 0.15);\n",
              "      filter: drop-shadow(0px 1px 2px rgba(0, 0, 0, 0.3));\n",
              "      fill: #FFFFFF;\n",
              "    }\n",
              "  </style>\n",
              "\n",
              "      <script>\n",
              "        const buttonEl =\n",
              "          document.querySelector('#df-89b44c62-67ee-4fc5-b5cf-628cbc50dc1a button.colab-df-convert');\n",
              "        buttonEl.style.display =\n",
              "          google.colab.kernel.accessAllowed ? 'block' : 'none';\n",
              "\n",
              "        async function convertToInteractive(key) {\n",
              "          const element = document.querySelector('#df-89b44c62-67ee-4fc5-b5cf-628cbc50dc1a');\n",
              "          const dataTable =\n",
              "            await google.colab.kernel.invokeFunction('convertToInteractive',\n",
              "                                                     [key], {});\n",
              "          if (!dataTable) return;\n",
              "\n",
              "          const docLinkHtml = 'Like what you see? Visit the ' +\n",
              "            '<a target=\"_blank\" href=https://colab.research.google.com/notebooks/data_table.ipynb>data table notebook</a>'\n",
              "            + ' to learn more about interactive tables.';\n",
              "          element.innerHTML = '';\n",
              "          dataTable['output_type'] = 'display_data';\n",
              "          await google.colab.output.renderOutput(dataTable, element);\n",
              "          const docLink = document.createElement('div');\n",
              "          docLink.innerHTML = docLinkHtml;\n",
              "          element.appendChild(docLink);\n",
              "        }\n",
              "      </script>\n",
              "    </div>\n",
              "  </div>\n",
              "  "
            ]
          },
          "metadata": {},
          "execution_count": 11
        }
      ],
      "source": [
        "numeric_cols = [\n",
        "    \"nsuicides\", \"population\", \"crudeRate\", \"HDIyear\", \"GDPyear\", \"GDPcap\"\n",
        "]\n",
        "col_ranges_df = pd.DataFrame()\n",
        "col_ranges_df['min'] = df[numeric_cols].min()\n",
        "col_ranges_df['max'] = df[numeric_cols].max()\n",
        "col_ranges_df = col_ranges_df.T.astype(df[numeric_cols].dtypes.to_dict())\n",
        "col_ranges_df"
      ]
    },
    {
      "cell_type": "markdown",
      "metadata": {
        "id": "apGoYtNV6dAt"
      },
      "source": [
        "### Let's inspect categorical columns"
      ]
    },
    {
      "cell_type": "code",
      "execution_count": 12,
      "metadata": {
        "colab": {
          "base_uri": "https://localhost:8080/",
          "height": 112
        },
        "id": "EwlG1z5L6dAt",
        "outputId": "8c38c9ce-abe0-4754-99b5-d7047d4331ec"
      },
      "outputs": [
        {
          "output_type": "execute_result",
          "data": {
            "text/plain": [
              "                             year                                    country  \\\n",
              "NumUniqueVals                  32                                        101   \n",
              "SomeFirstVals  [1985, 1986, 1987]  [Albania, Antigua and Barbuda, Argentina]   \n",
              "\n",
              "                       gender                    age  \n",
              "NumUniqueVals               2                      6  \n",
              "SomeFirstVals  [female, male]  [05-14, 15-24, 25-34]  "
            ],
            "text/html": [
              "\n",
              "  <div id=\"df-6c1f0994-aa60-422e-b890-4b11e68af639\">\n",
              "    <div class=\"colab-df-container\">\n",
              "      <div>\n",
              "<style scoped>\n",
              "    .dataframe tbody tr th:only-of-type {\n",
              "        vertical-align: middle;\n",
              "    }\n",
              "\n",
              "    .dataframe tbody tr th {\n",
              "        vertical-align: top;\n",
              "    }\n",
              "\n",
              "    .dataframe thead th {\n",
              "        text-align: right;\n",
              "    }\n",
              "</style>\n",
              "<table border=\"1\" class=\"dataframe\">\n",
              "  <thead>\n",
              "    <tr style=\"text-align: right;\">\n",
              "      <th></th>\n",
              "      <th>year</th>\n",
              "      <th>country</th>\n",
              "      <th>gender</th>\n",
              "      <th>age</th>\n",
              "    </tr>\n",
              "  </thead>\n",
              "  <tbody>\n",
              "    <tr>\n",
              "      <th>NumUniqueVals</th>\n",
              "      <td>32</td>\n",
              "      <td>101</td>\n",
              "      <td>2</td>\n",
              "      <td>6</td>\n",
              "    </tr>\n",
              "    <tr>\n",
              "      <th>SomeFirstVals</th>\n",
              "      <td>[1985, 1986, 1987]</td>\n",
              "      <td>[Albania, Antigua and Barbuda, Argentina]</td>\n",
              "      <td>[female, male]</td>\n",
              "      <td>[05-14, 15-24, 25-34]</td>\n",
              "    </tr>\n",
              "  </tbody>\n",
              "</table>\n",
              "</div>\n",
              "      <button class=\"colab-df-convert\" onclick=\"convertToInteractive('df-6c1f0994-aa60-422e-b890-4b11e68af639')\"\n",
              "              title=\"Convert this dataframe to an interactive table.\"\n",
              "              style=\"display:none;\">\n",
              "        \n",
              "  <svg xmlns=\"http://www.w3.org/2000/svg\" height=\"24px\"viewBox=\"0 0 24 24\"\n",
              "       width=\"24px\">\n",
              "    <path d=\"M0 0h24v24H0V0z\" fill=\"none\"/>\n",
              "    <path d=\"M18.56 5.44l.94 2.06.94-2.06 2.06-.94-2.06-.94-.94-2.06-.94 2.06-2.06.94zm-11 1L8.5 8.5l.94-2.06 2.06-.94-2.06-.94L8.5 2.5l-.94 2.06-2.06.94zm10 10l.94 2.06.94-2.06 2.06-.94-2.06-.94-.94-2.06-.94 2.06-2.06.94z\"/><path d=\"M17.41 7.96l-1.37-1.37c-.4-.4-.92-.59-1.43-.59-.52 0-1.04.2-1.43.59L10.3 9.45l-7.72 7.72c-.78.78-.78 2.05 0 2.83L4 21.41c.39.39.9.59 1.41.59.51 0 1.02-.2 1.41-.59l7.78-7.78 2.81-2.81c.8-.78.8-2.07 0-2.86zM5.41 20L4 18.59l7.72-7.72 1.47 1.35L5.41 20z\"/>\n",
              "  </svg>\n",
              "      </button>\n",
              "      \n",
              "  <style>\n",
              "    .colab-df-container {\n",
              "      display:flex;\n",
              "      flex-wrap:wrap;\n",
              "      gap: 12px;\n",
              "    }\n",
              "\n",
              "    .colab-df-convert {\n",
              "      background-color: #E8F0FE;\n",
              "      border: none;\n",
              "      border-radius: 50%;\n",
              "      cursor: pointer;\n",
              "      display: none;\n",
              "      fill: #1967D2;\n",
              "      height: 32px;\n",
              "      padding: 0 0 0 0;\n",
              "      width: 32px;\n",
              "    }\n",
              "\n",
              "    .colab-df-convert:hover {\n",
              "      background-color: #E2EBFA;\n",
              "      box-shadow: 0px 1px 2px rgba(60, 64, 67, 0.3), 0px 1px 3px 1px rgba(60, 64, 67, 0.15);\n",
              "      fill: #174EA6;\n",
              "    }\n",
              "\n",
              "    [theme=dark] .colab-df-convert {\n",
              "      background-color: #3B4455;\n",
              "      fill: #D2E3FC;\n",
              "    }\n",
              "\n",
              "    [theme=dark] .colab-df-convert:hover {\n",
              "      background-color: #434B5C;\n",
              "      box-shadow: 0px 1px 3px 1px rgba(0, 0, 0, 0.15);\n",
              "      filter: drop-shadow(0px 1px 2px rgba(0, 0, 0, 0.3));\n",
              "      fill: #FFFFFF;\n",
              "    }\n",
              "  </style>\n",
              "\n",
              "      <script>\n",
              "        const buttonEl =\n",
              "          document.querySelector('#df-6c1f0994-aa60-422e-b890-4b11e68af639 button.colab-df-convert');\n",
              "        buttonEl.style.display =\n",
              "          google.colab.kernel.accessAllowed ? 'block' : 'none';\n",
              "\n",
              "        async function convertToInteractive(key) {\n",
              "          const element = document.querySelector('#df-6c1f0994-aa60-422e-b890-4b11e68af639');\n",
              "          const dataTable =\n",
              "            await google.colab.kernel.invokeFunction('convertToInteractive',\n",
              "                                                     [key], {});\n",
              "          if (!dataTable) return;\n",
              "\n",
              "          const docLinkHtml = 'Like what you see? Visit the ' +\n",
              "            '<a target=\"_blank\" href=https://colab.research.google.com/notebooks/data_table.ipynb>data table notebook</a>'\n",
              "            + ' to learn more about interactive tables.';\n",
              "          element.innerHTML = '';\n",
              "          dataTable['output_type'] = 'display_data';\n",
              "          await google.colab.output.renderOutput(dataTable, element);\n",
              "          const docLink = document.createElement('div');\n",
              "          docLink.innerHTML = docLinkHtml;\n",
              "          element.appendChild(docLink);\n",
              "        }\n",
              "      </script>\n",
              "    </div>\n",
              "  </div>\n",
              "  "
            ]
          },
          "metadata": {},
          "execution_count": 12
        }
      ],
      "source": [
        "cat_cols = [\"year\", \"country\", \"gender\", \"age\"]\n",
        "cat_col_ranges_df = pd.DataFrame(columns=cat_cols)\n",
        "cat_col_ranges_df.loc[\"NumUniqueVals\"] = [\n",
        "    df[col].nunique() for col in cat_col_ranges_df.columns\n",
        "]\n",
        "cat_col_ranges_df.loc[\"SomeFirstVals\"] = [\n",
        "    np.sort(df[col].unique())[:3].tolist() for col in cat_col_ranges_df.columns\n",
        "]\n",
        "cat_col_ranges_df"
      ]
    },
    {
      "cell_type": "markdown",
      "metadata": {
        "id": "cBNCGldr6dAu"
      },
      "source": [
        "### Missing data analysis: What are the missing value percentages of each column?"
      ]
    },
    {
      "cell_type": "code",
      "execution_count": 13,
      "metadata": {
        "colab": {
          "base_uri": "https://localhost:8080/"
        },
        "id": "huyq9Tfa6dAu",
        "outputId": "0a228e23-a206-42e5-d0db-184c005faf1d"
      },
      "outputs": [
        {
          "output_type": "execute_result",
          "data": {
            "text/plain": [
              "country        0.0\n",
              "year           0.0\n",
              "gender         0.0\n",
              "age            0.0\n",
              "nsuicides      0.0\n",
              "population     0.0\n",
              "crudeRate      0.0\n",
              "HDIyear       69.9\n",
              "GDPyear        0.0\n",
              "GDPcap         0.0\n",
              "generation     0.0\n",
              "dtype: float64"
            ]
          },
          "metadata": {},
          "execution_count": 13
        }
      ],
      "source": [
        "col_num_nans = np.round(df.isnull().mean() * 100, 1)\n",
        "col_num_nans"
      ]
    },
    {
      "cell_type": "markdown",
      "metadata": {
        "id": "Hvv1dTWl6dAu"
      },
      "source": [
        "Removing \"HDIyear\" since it has nearly 70% missing values."
      ]
    },
    {
      "cell_type": "code",
      "execution_count": 14,
      "metadata": {
        "id": "bE5uwhLB6dAv"
      },
      "outputs": [],
      "source": [
        "df.drop(columns='HDIyear', inplace=True)"
      ]
    },
    {
      "cell_type": "markdown",
      "metadata": {
        "id": "VaKP8jSF6dAv"
      },
      "source": [
        "### Problem with **generation** column"
      ]
    },
    {
      "cell_type": "code",
      "execution_count": 15,
      "metadata": {
        "colab": {
          "base_uri": "https://localhost:8080/",
          "height": 143
        },
        "id": "Acws_fqb6dAw",
        "outputId": "a6606114-8baa-4d0f-e73a-747f6aa3b29b"
      },
      "outputs": [
        {
          "output_type": "execute_result",
          "data": {
            "text/plain": [
              "generation  Boomers G.I. Generation    Generation X Generation Z Millenials  \\\n",
              "year                                                                          \n",
              "1985        [25-34]    [55-74, 75+]  [15-24, 05-14]          NaN        NaN   \n",
              "1986        [25-34]    [55-74, 75+]  [15-24, 05-14]          NaN        NaN   \n",
              "\n",
              "generation   Silent  \n",
              "year                 \n",
              "1985        [35-54]  \n",
              "1986        [35-54]  "
            ],
            "text/html": [
              "\n",
              "  <div id=\"df-87982673-7da8-4ff2-ad12-d580a7802a0c\">\n",
              "    <div class=\"colab-df-container\">\n",
              "      <div>\n",
              "<style scoped>\n",
              "    .dataframe tbody tr th:only-of-type {\n",
              "        vertical-align: middle;\n",
              "    }\n",
              "\n",
              "    .dataframe tbody tr th {\n",
              "        vertical-align: top;\n",
              "    }\n",
              "\n",
              "    .dataframe thead th {\n",
              "        text-align: right;\n",
              "    }\n",
              "</style>\n",
              "<table border=\"1\" class=\"dataframe\">\n",
              "  <thead>\n",
              "    <tr style=\"text-align: right;\">\n",
              "      <th>generation</th>\n",
              "      <th>Boomers</th>\n",
              "      <th>G.I. Generation</th>\n",
              "      <th>Generation X</th>\n",
              "      <th>Generation Z</th>\n",
              "      <th>Millenials</th>\n",
              "      <th>Silent</th>\n",
              "    </tr>\n",
              "    <tr>\n",
              "      <th>year</th>\n",
              "      <th></th>\n",
              "      <th></th>\n",
              "      <th></th>\n",
              "      <th></th>\n",
              "      <th></th>\n",
              "      <th></th>\n",
              "    </tr>\n",
              "  </thead>\n",
              "  <tbody>\n",
              "    <tr>\n",
              "      <th>1985</th>\n",
              "      <td>[25-34]</td>\n",
              "      <td>[55-74, 75+]</td>\n",
              "      <td>[15-24, 05-14]</td>\n",
              "      <td>NaN</td>\n",
              "      <td>NaN</td>\n",
              "      <td>[35-54]</td>\n",
              "    </tr>\n",
              "    <tr>\n",
              "      <th>1986</th>\n",
              "      <td>[25-34]</td>\n",
              "      <td>[55-74, 75+]</td>\n",
              "      <td>[15-24, 05-14]</td>\n",
              "      <td>NaN</td>\n",
              "      <td>NaN</td>\n",
              "      <td>[35-54]</td>\n",
              "    </tr>\n",
              "  </tbody>\n",
              "</table>\n",
              "</div>\n",
              "      <button class=\"colab-df-convert\" onclick=\"convertToInteractive('df-87982673-7da8-4ff2-ad12-d580a7802a0c')\"\n",
              "              title=\"Convert this dataframe to an interactive table.\"\n",
              "              style=\"display:none;\">\n",
              "        \n",
              "  <svg xmlns=\"http://www.w3.org/2000/svg\" height=\"24px\"viewBox=\"0 0 24 24\"\n",
              "       width=\"24px\">\n",
              "    <path d=\"M0 0h24v24H0V0z\" fill=\"none\"/>\n",
              "    <path d=\"M18.56 5.44l.94 2.06.94-2.06 2.06-.94-2.06-.94-.94-2.06-.94 2.06-2.06.94zm-11 1L8.5 8.5l.94-2.06 2.06-.94-2.06-.94L8.5 2.5l-.94 2.06-2.06.94zm10 10l.94 2.06.94-2.06 2.06-.94-2.06-.94-.94-2.06-.94 2.06-2.06.94z\"/><path d=\"M17.41 7.96l-1.37-1.37c-.4-.4-.92-.59-1.43-.59-.52 0-1.04.2-1.43.59L10.3 9.45l-7.72 7.72c-.78.78-.78 2.05 0 2.83L4 21.41c.39.39.9.59 1.41.59.51 0 1.02-.2 1.41-.59l7.78-7.78 2.81-2.81c.8-.78.8-2.07 0-2.86zM5.41 20L4 18.59l7.72-7.72 1.47 1.35L5.41 20z\"/>\n",
              "  </svg>\n",
              "      </button>\n",
              "      \n",
              "  <style>\n",
              "    .colab-df-container {\n",
              "      display:flex;\n",
              "      flex-wrap:wrap;\n",
              "      gap: 12px;\n",
              "    }\n",
              "\n",
              "    .colab-df-convert {\n",
              "      background-color: #E8F0FE;\n",
              "      border: none;\n",
              "      border-radius: 50%;\n",
              "      cursor: pointer;\n",
              "      display: none;\n",
              "      fill: #1967D2;\n",
              "      height: 32px;\n",
              "      padding: 0 0 0 0;\n",
              "      width: 32px;\n",
              "    }\n",
              "\n",
              "    .colab-df-convert:hover {\n",
              "      background-color: #E2EBFA;\n",
              "      box-shadow: 0px 1px 2px rgba(60, 64, 67, 0.3), 0px 1px 3px 1px rgba(60, 64, 67, 0.15);\n",
              "      fill: #174EA6;\n",
              "    }\n",
              "\n",
              "    [theme=dark] .colab-df-convert {\n",
              "      background-color: #3B4455;\n",
              "      fill: #D2E3FC;\n",
              "    }\n",
              "\n",
              "    [theme=dark] .colab-df-convert:hover {\n",
              "      background-color: #434B5C;\n",
              "      box-shadow: 0px 1px 3px 1px rgba(0, 0, 0, 0.15);\n",
              "      filter: drop-shadow(0px 1px 2px rgba(0, 0, 0, 0.3));\n",
              "      fill: #FFFFFF;\n",
              "    }\n",
              "  </style>\n",
              "\n",
              "      <script>\n",
              "        const buttonEl =\n",
              "          document.querySelector('#df-87982673-7da8-4ff2-ad12-d580a7802a0c button.colab-df-convert');\n",
              "        buttonEl.style.display =\n",
              "          google.colab.kernel.accessAllowed ? 'block' : 'none';\n",
              "\n",
              "        async function convertToInteractive(key) {\n",
              "          const element = document.querySelector('#df-87982673-7da8-4ff2-ad12-d580a7802a0c');\n",
              "          const dataTable =\n",
              "            await google.colab.kernel.invokeFunction('convertToInteractive',\n",
              "                                                     [key], {});\n",
              "          if (!dataTable) return;\n",
              "\n",
              "          const docLinkHtml = 'Like what you see? Visit the ' +\n",
              "            '<a target=\"_blank\" href=https://colab.research.google.com/notebooks/data_table.ipynb>data table notebook</a>'\n",
              "            + ' to learn more about interactive tables.';\n",
              "          element.innerHTML = '';\n",
              "          dataTable['output_type'] = 'display_data';\n",
              "          await google.colab.output.renderOutput(dataTable, element);\n",
              "          const docLink = document.createElement('div');\n",
              "          docLink.innerHTML = docLinkHtml;\n",
              "          element.appendChild(docLink);\n",
              "        }\n",
              "      </script>\n",
              "    </div>\n",
              "  </div>\n",
              "  "
            ]
          },
          "metadata": {},
          "execution_count": 15
        }
      ],
      "source": [
        "df.groupby(['year', 'generation']).age.unique().unstack().loc[1985:1986]"
      ]
    },
    {
      "cell_type": "markdown",
      "metadata": {
        "id": "q6kSLyLe6dAw"
      },
      "source": [
        "Generation is defined by a person's **year of birth**, not **age number**. Therefore, the corresponding age group of a generation must differ from year to year. For example, if the age group is 55+ in 1985 like the data describe, then in 1986 it should be 56+, which is not the case.\n"
      ]
    },
    {
      "cell_type": "code",
      "execution_count": 16,
      "metadata": {
        "colab": {
          "base_uri": "https://localhost:8080/",
          "height": 112
        },
        "id": "vgRCc8Wb6dAw",
        "outputId": "204815d9-2074-4733-b7d0-abe0dca37404"
      },
      "outputs": [
        {
          "output_type": "execute_result",
          "data": {
            "text/plain": [
              "generation  Boomers G.I. Generation Generation X Generation Z      Millenials  \\\n",
              "year                                                                            \n",
              "2015        [55-74]             NaN      [35-54]      [05-14]  [15-24, 25-34]   \n",
              "\n",
              "generation Silent  \n",
              "year               \n",
              "2015        [75+]  "
            ],
            "text/html": [
              "\n",
              "  <div id=\"df-c0be8677-b519-4e6b-b9ff-3b435f1348ac\">\n",
              "    <div class=\"colab-df-container\">\n",
              "      <div>\n",
              "<style scoped>\n",
              "    .dataframe tbody tr th:only-of-type {\n",
              "        vertical-align: middle;\n",
              "    }\n",
              "\n",
              "    .dataframe tbody tr th {\n",
              "        vertical-align: top;\n",
              "    }\n",
              "\n",
              "    .dataframe thead th {\n",
              "        text-align: right;\n",
              "    }\n",
              "</style>\n",
              "<table border=\"1\" class=\"dataframe\">\n",
              "  <thead>\n",
              "    <tr style=\"text-align: right;\">\n",
              "      <th>generation</th>\n",
              "      <th>Boomers</th>\n",
              "      <th>G.I. Generation</th>\n",
              "      <th>Generation X</th>\n",
              "      <th>Generation Z</th>\n",
              "      <th>Millenials</th>\n",
              "      <th>Silent</th>\n",
              "    </tr>\n",
              "    <tr>\n",
              "      <th>year</th>\n",
              "      <th></th>\n",
              "      <th></th>\n",
              "      <th></th>\n",
              "      <th></th>\n",
              "      <th></th>\n",
              "      <th></th>\n",
              "    </tr>\n",
              "  </thead>\n",
              "  <tbody>\n",
              "    <tr>\n",
              "      <th>2015</th>\n",
              "      <td>[55-74]</td>\n",
              "      <td>NaN</td>\n",
              "      <td>[35-54]</td>\n",
              "      <td>[05-14]</td>\n",
              "      <td>[15-24, 25-34]</td>\n",
              "      <td>[75+]</td>\n",
              "    </tr>\n",
              "  </tbody>\n",
              "</table>\n",
              "</div>\n",
              "      <button class=\"colab-df-convert\" onclick=\"convertToInteractive('df-c0be8677-b519-4e6b-b9ff-3b435f1348ac')\"\n",
              "              title=\"Convert this dataframe to an interactive table.\"\n",
              "              style=\"display:none;\">\n",
              "        \n",
              "  <svg xmlns=\"http://www.w3.org/2000/svg\" height=\"24px\"viewBox=\"0 0 24 24\"\n",
              "       width=\"24px\">\n",
              "    <path d=\"M0 0h24v24H0V0z\" fill=\"none\"/>\n",
              "    <path d=\"M18.56 5.44l.94 2.06.94-2.06 2.06-.94-2.06-.94-.94-2.06-.94 2.06-2.06.94zm-11 1L8.5 8.5l.94-2.06 2.06-.94-2.06-.94L8.5 2.5l-.94 2.06-2.06.94zm10 10l.94 2.06.94-2.06 2.06-.94-2.06-.94-.94-2.06-.94 2.06-2.06.94z\"/><path d=\"M17.41 7.96l-1.37-1.37c-.4-.4-.92-.59-1.43-.59-.52 0-1.04.2-1.43.59L10.3 9.45l-7.72 7.72c-.78.78-.78 2.05 0 2.83L4 21.41c.39.39.9.59 1.41.59.51 0 1.02-.2 1.41-.59l7.78-7.78 2.81-2.81c.8-.78.8-2.07 0-2.86zM5.41 20L4 18.59l7.72-7.72 1.47 1.35L5.41 20z\"/>\n",
              "  </svg>\n",
              "      </button>\n",
              "      \n",
              "  <style>\n",
              "    .colab-df-container {\n",
              "      display:flex;\n",
              "      flex-wrap:wrap;\n",
              "      gap: 12px;\n",
              "    }\n",
              "\n",
              "    .colab-df-convert {\n",
              "      background-color: #E8F0FE;\n",
              "      border: none;\n",
              "      border-radius: 50%;\n",
              "      cursor: pointer;\n",
              "      display: none;\n",
              "      fill: #1967D2;\n",
              "      height: 32px;\n",
              "      padding: 0 0 0 0;\n",
              "      width: 32px;\n",
              "    }\n",
              "\n",
              "    .colab-df-convert:hover {\n",
              "      background-color: #E2EBFA;\n",
              "      box-shadow: 0px 1px 2px rgba(60, 64, 67, 0.3), 0px 1px 3px 1px rgba(60, 64, 67, 0.15);\n",
              "      fill: #174EA6;\n",
              "    }\n",
              "\n",
              "    [theme=dark] .colab-df-convert {\n",
              "      background-color: #3B4455;\n",
              "      fill: #D2E3FC;\n",
              "    }\n",
              "\n",
              "    [theme=dark] .colab-df-convert:hover {\n",
              "      background-color: #434B5C;\n",
              "      box-shadow: 0px 1px 3px 1px rgba(0, 0, 0, 0.15);\n",
              "      filter: drop-shadow(0px 1px 2px rgba(0, 0, 0, 0.3));\n",
              "      fill: #FFFFFF;\n",
              "    }\n",
              "  </style>\n",
              "\n",
              "      <script>\n",
              "        const buttonEl =\n",
              "          document.querySelector('#df-c0be8677-b519-4e6b-b9ff-3b435f1348ac button.colab-df-convert');\n",
              "        buttonEl.style.display =\n",
              "          google.colab.kernel.accessAllowed ? 'block' : 'none';\n",
              "\n",
              "        async function convertToInteractive(key) {\n",
              "          const element = document.querySelector('#df-c0be8677-b519-4e6b-b9ff-3b435f1348ac');\n",
              "          const dataTable =\n",
              "            await google.colab.kernel.invokeFunction('convertToInteractive',\n",
              "                                                     [key], {});\n",
              "          if (!dataTable) return;\n",
              "\n",
              "          const docLinkHtml = 'Like what you see? Visit the ' +\n",
              "            '<a target=\"_blank\" href=https://colab.research.google.com/notebooks/data_table.ipynb>data table notebook</a>'\n",
              "            + ' to learn more about interactive tables.';\n",
              "          element.innerHTML = '';\n",
              "          dataTable['output_type'] = 'display_data';\n",
              "          await google.colab.output.renderOutput(dataTable, element);\n",
              "          const docLink = document.createElement('div');\n",
              "          docLink.innerHTML = docLinkHtml;\n",
              "          element.appendChild(docLink);\n",
              "        }\n",
              "      </script>\n",
              "    </div>\n",
              "  </div>\n",
              "  "
            ]
          },
          "metadata": {},
          "execution_count": 16
        }
      ],
      "source": [
        "df.groupby(['year', 'generation']).age.unique().unstack().loc[[2015]]"
      ]
    },
    {
      "cell_type": "markdown",
      "metadata": {
        "id": "m4kX_TVC6dAw"
      },
      "source": [
        "In fact, people divide generations completely differently than data. According to the article [The Whys and Hows of Generations Research](https://www.pewresearch.org/politics/2015/09/03/the-whys-and-hows-of-generations-research/), in 2015 , the generation of Milenials has an age range of 18 to 34, which is different from the data being from 15 to 34.\n",
        "\n"
      ]
    },
    {
      "cell_type": "markdown",
      "metadata": {
        "id": "70bmXymP6dAx"
      },
      "source": [
        "There are misconceptions about generation in this data, therefore it would be better to remove this column.\n"
      ]
    },
    {
      "cell_type": "code",
      "execution_count": 17,
      "metadata": {
        "id": "F4YZtaIv6dAx"
      },
      "outputs": [],
      "source": [
        "df.drop(columns='generation', inplace=True)"
      ]
    },
    {
      "cell_type": "markdown",
      "metadata": {
        "id": "zJQY9NaV6dAx"
      },
      "source": [
        "---"
      ]
    },
    {
      "cell_type": "markdown",
      "metadata": {
        "id": "eL5y1eIW6dAy"
      },
      "source": [
        "## Questions of interest"
      ]
    },
    {
      "cell_type": "markdown",
      "metadata": {
        "id": "nFuvheAl6dAy"
      },
      "source": [
        "### <span class=\"burk\">Question 1</span> ***For each year, what country has the highest suicide rate?***"
      ]
    },
    {
      "cell_type": "code",
      "execution_count": 18,
      "metadata": {
        "id": "Q0qaQi8u6dAy"
      },
      "outputs": [],
      "source": [
        "gb_df = df.groupby(['country', 'year'])\n",
        "crudeRateGeneral = (gb_df.nsuicides.sum() /\n",
        "                    (gb_df.population.sum() / 100000)).unstack()"
      ]
    },
    {
      "cell_type": "code",
      "execution_count": 19,
      "metadata": {
        "scrolled": true,
        "colab": {
          "base_uri": "https://localhost:8080/",
          "height": 1000
        },
        "id": "oINQMrX86dAz",
        "outputId": "ae94df54-390d-4448-c0ea-99a2b37a72f5"
      },
      "outputs": [
        {
          "output_type": "execute_result",
          "data": {
            "text/plain": [
              "     Country with highest rate  Highest rate\n",
              "year                                        \n",
              "1985                 Sri Lanka         40.90\n",
              "1986                 Sri Lanka         37.90\n",
              "1987                   Finland         29.54\n",
              "1988                   Finland         30.26\n",
              "1989                   Finland         30.36\n",
              "1990                   Finland         32.34\n",
              "1991                   Hungary         40.92\n",
              "1992                   Hungary         41.00\n",
              "1993        Russian Federation         40.56\n",
              "1994        Russian Federation         44.35\n",
              "1995                 Lithuania         50.01\n",
              "1996                 Lithuania         51.02\n",
              "1997                 Lithuania         48.51\n",
              "1998                 Lithuania         46.34\n",
              "1999                 Lithuania         46.50\n",
              "2000                 Lithuania         49.20\n",
              "2001                 Lithuania         46.54\n",
              "2002                 Lithuania         47.37\n",
              "2003                 Lithuania         44.71\n",
              "2004                 Lithuania         42.82\n",
              "2005                 Lithuania         41.55\n",
              "2006                 Lithuania         33.56\n",
              "2007                 Lithuania         33.19\n",
              "2008                 Lithuania         36.38\n",
              "2009                 Lithuania         37.73\n",
              "2010                 Lithuania         34.51\n",
              "2011                 Lithuania         35.35\n",
              "2012                 Lithuania         32.67\n",
              "2013                 Lithuania         38.66\n",
              "2014                 Lithuania         33.43\n",
              "2015                 Lithuania         32.54\n",
              "2016                 Lithuania         33.62"
            ],
            "text/html": [
              "\n",
              "  <div id=\"df-4065394c-1ea0-4a79-a1b6-2b3b674e5c4e\">\n",
              "    <div class=\"colab-df-container\">\n",
              "      <div>\n",
              "<style scoped>\n",
              "    .dataframe tbody tr th:only-of-type {\n",
              "        vertical-align: middle;\n",
              "    }\n",
              "\n",
              "    .dataframe tbody tr th {\n",
              "        vertical-align: top;\n",
              "    }\n",
              "\n",
              "    .dataframe thead th {\n",
              "        text-align: right;\n",
              "    }\n",
              "</style>\n",
              "<table border=\"1\" class=\"dataframe\">\n",
              "  <thead>\n",
              "    <tr style=\"text-align: right;\">\n",
              "      <th></th>\n",
              "      <th>Country with highest rate</th>\n",
              "      <th>Highest rate</th>\n",
              "    </tr>\n",
              "    <tr>\n",
              "      <th>year</th>\n",
              "      <th></th>\n",
              "      <th></th>\n",
              "    </tr>\n",
              "  </thead>\n",
              "  <tbody>\n",
              "    <tr>\n",
              "      <th>1985</th>\n",
              "      <td>Sri Lanka</td>\n",
              "      <td>40.90</td>\n",
              "    </tr>\n",
              "    <tr>\n",
              "      <th>1986</th>\n",
              "      <td>Sri Lanka</td>\n",
              "      <td>37.90</td>\n",
              "    </tr>\n",
              "    <tr>\n",
              "      <th>1987</th>\n",
              "      <td>Finland</td>\n",
              "      <td>29.54</td>\n",
              "    </tr>\n",
              "    <tr>\n",
              "      <th>1988</th>\n",
              "      <td>Finland</td>\n",
              "      <td>30.26</td>\n",
              "    </tr>\n",
              "    <tr>\n",
              "      <th>1989</th>\n",
              "      <td>Finland</td>\n",
              "      <td>30.36</td>\n",
              "    </tr>\n",
              "    <tr>\n",
              "      <th>1990</th>\n",
              "      <td>Finland</td>\n",
              "      <td>32.34</td>\n",
              "    </tr>\n",
              "    <tr>\n",
              "      <th>1991</th>\n",
              "      <td>Hungary</td>\n",
              "      <td>40.92</td>\n",
              "    </tr>\n",
              "    <tr>\n",
              "      <th>1992</th>\n",
              "      <td>Hungary</td>\n",
              "      <td>41.00</td>\n",
              "    </tr>\n",
              "    <tr>\n",
              "      <th>1993</th>\n",
              "      <td>Russian Federation</td>\n",
              "      <td>40.56</td>\n",
              "    </tr>\n",
              "    <tr>\n",
              "      <th>1994</th>\n",
              "      <td>Russian Federation</td>\n",
              "      <td>44.35</td>\n",
              "    </tr>\n",
              "    <tr>\n",
              "      <th>1995</th>\n",
              "      <td>Lithuania</td>\n",
              "      <td>50.01</td>\n",
              "    </tr>\n",
              "    <tr>\n",
              "      <th>1996</th>\n",
              "      <td>Lithuania</td>\n",
              "      <td>51.02</td>\n",
              "    </tr>\n",
              "    <tr>\n",
              "      <th>1997</th>\n",
              "      <td>Lithuania</td>\n",
              "      <td>48.51</td>\n",
              "    </tr>\n",
              "    <tr>\n",
              "      <th>1998</th>\n",
              "      <td>Lithuania</td>\n",
              "      <td>46.34</td>\n",
              "    </tr>\n",
              "    <tr>\n",
              "      <th>1999</th>\n",
              "      <td>Lithuania</td>\n",
              "      <td>46.50</td>\n",
              "    </tr>\n",
              "    <tr>\n",
              "      <th>2000</th>\n",
              "      <td>Lithuania</td>\n",
              "      <td>49.20</td>\n",
              "    </tr>\n",
              "    <tr>\n",
              "      <th>2001</th>\n",
              "      <td>Lithuania</td>\n",
              "      <td>46.54</td>\n",
              "    </tr>\n",
              "    <tr>\n",
              "      <th>2002</th>\n",
              "      <td>Lithuania</td>\n",
              "      <td>47.37</td>\n",
              "    </tr>\n",
              "    <tr>\n",
              "      <th>2003</th>\n",
              "      <td>Lithuania</td>\n",
              "      <td>44.71</td>\n",
              "    </tr>\n",
              "    <tr>\n",
              "      <th>2004</th>\n",
              "      <td>Lithuania</td>\n",
              "      <td>42.82</td>\n",
              "    </tr>\n",
              "    <tr>\n",
              "      <th>2005</th>\n",
              "      <td>Lithuania</td>\n",
              "      <td>41.55</td>\n",
              "    </tr>\n",
              "    <tr>\n",
              "      <th>2006</th>\n",
              "      <td>Lithuania</td>\n",
              "      <td>33.56</td>\n",
              "    </tr>\n",
              "    <tr>\n",
              "      <th>2007</th>\n",
              "      <td>Lithuania</td>\n",
              "      <td>33.19</td>\n",
              "    </tr>\n",
              "    <tr>\n",
              "      <th>2008</th>\n",
              "      <td>Lithuania</td>\n",
              "      <td>36.38</td>\n",
              "    </tr>\n",
              "    <tr>\n",
              "      <th>2009</th>\n",
              "      <td>Lithuania</td>\n",
              "      <td>37.73</td>\n",
              "    </tr>\n",
              "    <tr>\n",
              "      <th>2010</th>\n",
              "      <td>Lithuania</td>\n",
              "      <td>34.51</td>\n",
              "    </tr>\n",
              "    <tr>\n",
              "      <th>2011</th>\n",
              "      <td>Lithuania</td>\n",
              "      <td>35.35</td>\n",
              "    </tr>\n",
              "    <tr>\n",
              "      <th>2012</th>\n",
              "      <td>Lithuania</td>\n",
              "      <td>32.67</td>\n",
              "    </tr>\n",
              "    <tr>\n",
              "      <th>2013</th>\n",
              "      <td>Lithuania</td>\n",
              "      <td>38.66</td>\n",
              "    </tr>\n",
              "    <tr>\n",
              "      <th>2014</th>\n",
              "      <td>Lithuania</td>\n",
              "      <td>33.43</td>\n",
              "    </tr>\n",
              "    <tr>\n",
              "      <th>2015</th>\n",
              "      <td>Lithuania</td>\n",
              "      <td>32.54</td>\n",
              "    </tr>\n",
              "    <tr>\n",
              "      <th>2016</th>\n",
              "      <td>Lithuania</td>\n",
              "      <td>33.62</td>\n",
              "    </tr>\n",
              "  </tbody>\n",
              "</table>\n",
              "</div>\n",
              "      <button class=\"colab-df-convert\" onclick=\"convertToInteractive('df-4065394c-1ea0-4a79-a1b6-2b3b674e5c4e')\"\n",
              "              title=\"Convert this dataframe to an interactive table.\"\n",
              "              style=\"display:none;\">\n",
              "        \n",
              "  <svg xmlns=\"http://www.w3.org/2000/svg\" height=\"24px\"viewBox=\"0 0 24 24\"\n",
              "       width=\"24px\">\n",
              "    <path d=\"M0 0h24v24H0V0z\" fill=\"none\"/>\n",
              "    <path d=\"M18.56 5.44l.94 2.06.94-2.06 2.06-.94-2.06-.94-.94-2.06-.94 2.06-2.06.94zm-11 1L8.5 8.5l.94-2.06 2.06-.94-2.06-.94L8.5 2.5l-.94 2.06-2.06.94zm10 10l.94 2.06.94-2.06 2.06-.94-2.06-.94-.94-2.06-.94 2.06-2.06.94z\"/><path d=\"M17.41 7.96l-1.37-1.37c-.4-.4-.92-.59-1.43-.59-.52 0-1.04.2-1.43.59L10.3 9.45l-7.72 7.72c-.78.78-.78 2.05 0 2.83L4 21.41c.39.39.9.59 1.41.59.51 0 1.02-.2 1.41-.59l7.78-7.78 2.81-2.81c.8-.78.8-2.07 0-2.86zM5.41 20L4 18.59l7.72-7.72 1.47 1.35L5.41 20z\"/>\n",
              "  </svg>\n",
              "      </button>\n",
              "      \n",
              "  <style>\n",
              "    .colab-df-container {\n",
              "      display:flex;\n",
              "      flex-wrap:wrap;\n",
              "      gap: 12px;\n",
              "    }\n",
              "\n",
              "    .colab-df-convert {\n",
              "      background-color: #E8F0FE;\n",
              "      border: none;\n",
              "      border-radius: 50%;\n",
              "      cursor: pointer;\n",
              "      display: none;\n",
              "      fill: #1967D2;\n",
              "      height: 32px;\n",
              "      padding: 0 0 0 0;\n",
              "      width: 32px;\n",
              "    }\n",
              "\n",
              "    .colab-df-convert:hover {\n",
              "      background-color: #E2EBFA;\n",
              "      box-shadow: 0px 1px 2px rgba(60, 64, 67, 0.3), 0px 1px 3px 1px rgba(60, 64, 67, 0.15);\n",
              "      fill: #174EA6;\n",
              "    }\n",
              "\n",
              "    [theme=dark] .colab-df-convert {\n",
              "      background-color: #3B4455;\n",
              "      fill: #D2E3FC;\n",
              "    }\n",
              "\n",
              "    [theme=dark] .colab-df-convert:hover {\n",
              "      background-color: #434B5C;\n",
              "      box-shadow: 0px 1px 3px 1px rgba(0, 0, 0, 0.15);\n",
              "      filter: drop-shadow(0px 1px 2px rgba(0, 0, 0, 0.3));\n",
              "      fill: #FFFFFF;\n",
              "    }\n",
              "  </style>\n",
              "\n",
              "      <script>\n",
              "        const buttonEl =\n",
              "          document.querySelector('#df-4065394c-1ea0-4a79-a1b6-2b3b674e5c4e button.colab-df-convert');\n",
              "        buttonEl.style.display =\n",
              "          google.colab.kernel.accessAllowed ? 'block' : 'none';\n",
              "\n",
              "        async function convertToInteractive(key) {\n",
              "          const element = document.querySelector('#df-4065394c-1ea0-4a79-a1b6-2b3b674e5c4e');\n",
              "          const dataTable =\n",
              "            await google.colab.kernel.invokeFunction('convertToInteractive',\n",
              "                                                     [key], {});\n",
              "          if (!dataTable) return;\n",
              "\n",
              "          const docLinkHtml = 'Like what you see? Visit the ' +\n",
              "            '<a target=\"_blank\" href=https://colab.research.google.com/notebooks/data_table.ipynb>data table notebook</a>'\n",
              "            + ' to learn more about interactive tables.';\n",
              "          element.innerHTML = '';\n",
              "          dataTable['output_type'] = 'display_data';\n",
              "          await google.colab.output.renderOutput(dataTable, element);\n",
              "          const docLink = document.createElement('div');\n",
              "          docLink.innerHTML = docLinkHtml;\n",
              "          element.appendChild(docLink);\n",
              "        }\n",
              "      </script>\n",
              "    </div>\n",
              "  </div>\n",
              "  "
            ]
          },
          "metadata": {},
          "execution_count": 19
        }
      ],
      "source": [
        "most_concerning_countries = crudeRateGeneral.agg(['idxmax', 'max']).T\n",
        "most_concerning_countries['max'] = most_concerning_countries['max'].apply(\n",
        "    lambda x: round(x, 2))\n",
        "most_concerning_countries.columns = [\n",
        "    \"Country with highest rate\", \"Highest rate\"\n",
        "]\n",
        "most_concerning_countries"
      ]
    },
    {
      "cell_type": "markdown",
      "metadata": {
        "id": "ZHSKXzTM6dA0"
      },
      "source": [
        "[Lithuania](https://en.wikipedia.org/wiki/Suicide_in_Lithuania) has the [highest](https://theculturetrip.com/europe/lithuania/articles/this-country-has-among-the-highest-suicide-rates-in-the-world/) suicide rate  from 1995 to 2016."
      ]
    },
    {
      "cell_type": "markdown",
      "metadata": {
        "id": "vSaUWI0M6dA0"
      },
      "source": [
        "### <span class=\"burk\">Question 2</span> ***Does it get better?***"
      ]
    },
    {
      "cell_type": "markdown",
      "metadata": {
        "id": "W9uZxaSR6dA1"
      },
      "source": [
        "To answer this question, let's find the trend in suicide rate for every country over years. To do that we will use a simple linear regression model \"$y = ax+b$\" (in this case $y$ is `crudeRateGeneral` and $x$ is `year`). So if $a$ is more \"negative\", things are getting better.\n"
      ]
    },
    {
      "cell_type": "markdown",
      "metadata": {
        "id": "obUKzqXX6dA1"
      },
      "source": [
        "Countries with just a few records cannot display a clear trend, therefore we specifically only keep countries with more than 15 entries."
      ]
    },
    {
      "cell_type": "code",
      "execution_count": 20,
      "metadata": {
        "id": "68SD6TW16dA1"
      },
      "outputs": [],
      "source": [
        "crudeRateGeneral.dropna(thresh=16, inplace=True)"
      ]
    },
    {
      "cell_type": "code",
      "execution_count": 21,
      "metadata": {
        "id": "FrI8cdto6dA1"
      },
      "outputs": [],
      "source": [
        "a = []\n",
        "for i in range(crudeRateGeneral.shape[0]):\n",
        "    Y = crudeRateGeneral.iloc[[i]].dropna(axis=1)\n",
        "    X = np.array(Y.columns)\n",
        "    Y = np.array(Y).T\n",
        "    Y = np.hstack((Y, np.ones(Y.shape)))\n",
        "    X = X.reshape((Y.shape[0], 1))\n",
        "    a.append((LinearRegression().fit(X, Y).coef_)[0, 0])\n",
        "a = np.array(a)"
      ]
    },
    {
      "cell_type": "code",
      "execution_count": 22,
      "metadata": {
        "colab": {
          "base_uri": "https://localhost:8080/"
        },
        "id": "y5Rua0vL6dA2",
        "outputId": "7375751c-8c03-4a58-eb91-fa0d0912abb7"
      },
      "outputs": [
        {
          "output_type": "execute_result",
          "data": {
            "text/plain": [
              "country\n",
              "Estonia             -1.308874\n",
              "Latvia              -1.037742\n",
              "Lithuania           -0.933651\n",
              "Hungary             -0.783661\n",
              "Slovenia            -0.649019\n",
              "                       ...   \n",
              "Chile                0.268346\n",
              "Uruguay              0.312896\n",
              "Suriname             0.536502\n",
              "Guyana               0.925073\n",
              "Republic of Korea    0.930579\n",
              "Length: 81, dtype: float64"
            ]
          },
          "metadata": {},
          "execution_count": 22
        }
      ],
      "source": [
        "result = pd.Series(data=a, index=crudeRateGeneral.index)\n",
        "result.sort_values(inplace=True)\n",
        "result"
      ]
    },
    {
      "cell_type": "code",
      "execution_count": 23,
      "metadata": {
        "colab": {
          "base_uri": "https://localhost:8080/",
          "height": 1000
        },
        "id": "VHKuMxg76dA2",
        "outputId": "f3638c5a-8c5c-47c1-a085-89027687ec4b"
      },
      "outputs": [
        {
          "output_type": "display_data",
          "data": {
            "text/plain": [
              "<Figure size 720x1440 with 1 Axes>"
            ],
            "image/png": "[encoded data removed]"
          },
          "metadata": {
            "needs_background": "light"
          }
        }
      ],
      "source": [
        "plt.figure(figsize=[10, 20])\n",
        "for (value, index) in zip(result.values, result.index):\n",
        "    if value > 0:\n",
        "        plt.plot([0, value], [index, index], c='r')\n",
        "        plt.plot(value, index, 'r>')\n",
        "    else:\n",
        "        plt.plot([0, value], [index, index], c='g')\n",
        "        plt.plot(value, index, 'g<')\n",
        "plt.axvline(x=0, ls='--')\n",
        "plt.xlabel(\"Level of change in crude rate\");"
      ]
    },
    {
      "cell_type": "markdown",
      "metadata": {
        "id": "u2T6PBVK6dA3"
      },
      "source": [
        "- Top 3 countries with increasing trend in suicide rate: Korea, Guyana and Suriname.\n",
        "- Top 3 countries with decreasing trend in suicide rate: Estonia, Latvia and Lithuania."
      ]
    },
    {
      "cell_type": "markdown",
      "metadata": {
        "id": "kXDLmOBD6dA3"
      },
      "source": [
        "Interesting point: Lithuania although has the highest suicide rate, but is among the top 3 countries with decreasing suicide rate."
      ]
    },
    {
      "cell_type": "code",
      "execution_count": 24,
      "metadata": {
        "colab": {
          "base_uri": "https://localhost:8080/"
        },
        "id": "_TCKoDG26dA4",
        "outputId": "a2a54af6-b623-43c6-aeed-33ab3eb5b84b"
      },
      "outputs": [
        {
          "output_type": "stream",
          "name": "stdout",
          "text": [
            "In valid countries, there are about 40.7% of countries with increasing crude rate and about 59.3% with decreasing crude rate\n"
          ]
        }
      ],
      "source": [
        "icr = np.round(np.mean(a > 0) * 100, 1)\n",
        "dcr = np.round(np.mean(a < 0) * 100, 1)\n",
        "print(\n",
        "    \"In valid countries, there are about {0}% of countries with increasing crude rate and about {1}% with decreasing crude rate\"\n",
        "    .format(icr, dcr))"
      ]
    },
    {
      "cell_type": "markdown",
      "metadata": {
        "id": "riWvCxD66dA4"
      },
      "source": [
        "There are more countries with decreasing suicide rate trend than the ones with increasing trend. Hooray!"
      ]
    },
    {
      "cell_type": "markdown",
      "metadata": {
        "id": "cO7f-VX96dA4"
      },
      "source": [
        "### <span class=\"burk\">Question 3</span> ***Does having a better living condition decreases suicide rate?***"
      ]
    },
    {
      "cell_type": "markdown",
      "metadata": {
        "id": "PL9uhgcg6dA5"
      },
      "source": [
        "We all know that as time goes, living condition gets better. Let's check this statement again using correlation coefficent between `year` and `GDPcap`."
      ]
    },
    {
      "cell_type": "code",
      "execution_count": 25,
      "metadata": {
        "scrolled": true,
        "colab": {
          "base_uri": "https://localhost:8080/",
          "height": 328
        },
        "id": "-BNFNeL16dA5",
        "outputId": "3c5f386b-1dea-4560-9410-d7ef96b56c80"
      },
      "outputs": [
        {
          "output_type": "execute_result",
          "data": {
            "text/plain": [
              "year           1985    1986     1987     1988     1989     1990     1991  \\\n",
              "country                                                                    \n",
              "Thailand      [840]   [911]   [1045]      NaN      NaN   [1666]   [1891]   \n",
              "Ecuador      [2238]  [1943]   [1669]   [1519]   [1619]   [1732]   [1869]   \n",
              "Saint Lucia     NaN  [2634]   [2875]   [3244]   [3505]   [4015]   [4194]   \n",
              "Portugal     [2912]  [4145]   [5138]   [5995]   [6436]   [8356]   [9483]   \n",
              "Sweden          NaN     NaN  [22813]  [25731]  [26978]  [32246]  [33623]   \n",
              "\n",
              "year            1992     1993     1994  ...     2007     2008     2009  \\\n",
              "country                                 ...                              \n",
              "Thailand      [2120]      NaN   [2784]  ...   [4461]   [4921]   [4736]   \n",
              "Ecuador       [1955]   [1996]   [2335]  ...   [4024]   [4787]   [4762]   \n",
              "Saint Lucia   [4564]   [4568]   [4704]  ...      NaN   [8122]   [7902]   \n",
              "Portugal     [11445]  [10098]  [10566]  ...  [24003]  [26121]  [24254]   \n",
              "Sweden       [34721]  [25880]  [27658]  ...  [56531]  [59155]  [49070]   \n",
              "\n",
              "year            2010     2011     2012     2013     2014     2015     2016  \n",
              "country                                                                     \n",
              "Thailand      [5707]   [6153]   [6584]   [6917]   [6662]   [6552]   [6713]  \n",
              "Ecuador       [5206]   [5836]   [6364]   [6769]   [7116]   [6832]      NaN  \n",
              "Saint Lucia   [8557]   [8826]   [8764]   [9041]   [9372]      NaN      NaN  \n",
              "Portugal     [23673]  [24337]  [21573]  [22641]  [23091]      NaN      NaN  \n",
              "Sweden       [55352]  [63380]  [60776]  [64133]  [62956]  [54629]  [55594]  \n",
              "\n",
              "[5 rows x 32 columns]"
            ],
            "text/html": [
              "\n",
              "  <div id=\"df-109134ac-4275-4923-b1ff-44de265c48d3\">\n",
              "    <div class=\"colab-df-container\">\n",
              "      <div>\n",
              "<style scoped>\n",
              "    .dataframe tbody tr th:only-of-type {\n",
              "        vertical-align: middle;\n",
              "    }\n",
              "\n",
              "    .dataframe tbody tr th {\n",
              "        vertical-align: top;\n",
              "    }\n",
              "\n",
              "    .dataframe thead th {\n",
              "        text-align: right;\n",
              "    }\n",
              "</style>\n",
              "<table border=\"1\" class=\"dataframe\">\n",
              "  <thead>\n",
              "    <tr style=\"text-align: right;\">\n",
              "      <th>year</th>\n",
              "      <th>1985</th>\n",
              "      <th>1986</th>\n",
              "      <th>1987</th>\n",
              "      <th>1988</th>\n",
              "      <th>1989</th>\n",
              "      <th>1990</th>\n",
              "      <th>1991</th>\n",
              "      <th>1992</th>\n",
              "      <th>1993</th>\n",
              "      <th>1994</th>\n",
              "      <th>...</th>\n",
              "      <th>2007</th>\n",
              "      <th>2008</th>\n",
              "      <th>2009</th>\n",
              "      <th>2010</th>\n",
              "      <th>2011</th>\n",
              "      <th>2012</th>\n",
              "      <th>2013</th>\n",
              "      <th>2014</th>\n",
              "      <th>2015</th>\n",
              "      <th>2016</th>\n",
              "    </tr>\n",
              "    <tr>\n",
              "      <th>country</th>\n",
              "      <th></th>\n",
              "      <th></th>\n",
              "      <th></th>\n",
              "      <th></th>\n",
              "      <th></th>\n",
              "      <th></th>\n",
              "      <th></th>\n",
              "      <th></th>\n",
              "      <th></th>\n",
              "      <th></th>\n",
              "      <th></th>\n",
              "      <th></th>\n",
              "      <th></th>\n",
              "      <th></th>\n",
              "      <th></th>\n",
              "      <th></th>\n",
              "      <th></th>\n",
              "      <th></th>\n",
              "      <th></th>\n",
              "      <th></th>\n",
              "      <th></th>\n",
              "    </tr>\n",
              "  </thead>\n",
              "  <tbody>\n",
              "    <tr>\n",
              "      <th>Thailand</th>\n",
              "      <td>[840]</td>\n",
              "      <td>[911]</td>\n",
              "      <td>[1045]</td>\n",
              "      <td>NaN</td>\n",
              "      <td>NaN</td>\n",
              "      <td>[1666]</td>\n",
              "      <td>[1891]</td>\n",
              "      <td>[2120]</td>\n",
              "      <td>NaN</td>\n",
              "      <td>[2784]</td>\n",
              "      <td>...</td>\n",
              "      <td>[4461]</td>\n",
              "      <td>[4921]</td>\n",
              "      <td>[4736]</td>\n",
              "      <td>[5707]</td>\n",
              "      <td>[6153]</td>\n",
              "      <td>[6584]</td>\n",
              "      <td>[6917]</td>\n",
              "      <td>[6662]</td>\n",
              "      <td>[6552]</td>\n",
              "      <td>[6713]</td>\n",
              "    </tr>\n",
              "    <tr>\n",
              "      <th>Ecuador</th>\n",
              "      <td>[2238]</td>\n",
              "      <td>[1943]</td>\n",
              "      <td>[1669]</td>\n",
              "      <td>[1519]</td>\n",
              "      <td>[1619]</td>\n",
              "      <td>[1732]</td>\n",
              "      <td>[1869]</td>\n",
              "      <td>[1955]</td>\n",
              "      <td>[1996]</td>\n",
              "      <td>[2335]</td>\n",
              "      <td>...</td>\n",
              "      <td>[4024]</td>\n",
              "      <td>[4787]</td>\n",
              "      <td>[4762]</td>\n",
              "      <td>[5206]</td>\n",
              "      <td>[5836]</td>\n",
              "      <td>[6364]</td>\n",
              "      <td>[6769]</td>\n",
              "      <td>[7116]</td>\n",
              "      <td>[6832]</td>\n",
              "      <td>NaN</td>\n",
              "    </tr>\n",
              "    <tr>\n",
              "      <th>Saint Lucia</th>\n",
              "      <td>NaN</td>\n",
              "      <td>[2634]</td>\n",
              "      <td>[2875]</td>\n",
              "      <td>[3244]</td>\n",
              "      <td>[3505]</td>\n",
              "      <td>[4015]</td>\n",
              "      <td>[4194]</td>\n",
              "      <td>[4564]</td>\n",
              "      <td>[4568]</td>\n",
              "      <td>[4704]</td>\n",
              "      <td>...</td>\n",
              "      <td>NaN</td>\n",
              "      <td>[8122]</td>\n",
              "      <td>[7902]</td>\n",
              "      <td>[8557]</td>\n",
              "      <td>[8826]</td>\n",
              "      <td>[8764]</td>\n",
              "      <td>[9041]</td>\n",
              "      <td>[9372]</td>\n",
              "      <td>NaN</td>\n",
              "      <td>NaN</td>\n",
              "    </tr>\n",
              "    <tr>\n",
              "      <th>Portugal</th>\n",
              "      <td>[2912]</td>\n",
              "      <td>[4145]</td>\n",
              "      <td>[5138]</td>\n",
              "      <td>[5995]</td>\n",
              "      <td>[6436]</td>\n",
              "      <td>[8356]</td>\n",
              "      <td>[9483]</td>\n",
              "      <td>[11445]</td>\n",
              "      <td>[10098]</td>\n",
              "      <td>[10566]</td>\n",
              "      <td>...</td>\n",
              "      <td>[24003]</td>\n",
              "      <td>[26121]</td>\n",
              "      <td>[24254]</td>\n",
              "      <td>[23673]</td>\n",
              "      <td>[24337]</td>\n",
              "      <td>[21573]</td>\n",
              "      <td>[22641]</td>\n",
              "      <td>[23091]</td>\n",
              "      <td>NaN</td>\n",
              "      <td>NaN</td>\n",
              "    </tr>\n",
              "    <tr>\n",
              "      <th>Sweden</th>\n",
              "      <td>NaN</td>\n",
              "      <td>NaN</td>\n",
              "      <td>[22813]</td>\n",
              "      <td>[25731]</td>\n",
              "      <td>[26978]</td>\n",
              "      <td>[32246]</td>\n",
              "      <td>[33623]</td>\n",
              "      <td>[34721]</td>\n",
              "      <td>[25880]</td>\n",
              "      <td>[27658]</td>\n",
              "      <td>...</td>\n",
              "      <td>[56531]</td>\n",
              "      <td>[59155]</td>\n",
              "      <td>[49070]</td>\n",
              "      <td>[55352]</td>\n",
              "      <td>[63380]</td>\n",
              "      <td>[60776]</td>\n",
              "      <td>[64133]</td>\n",
              "      <td>[62956]</td>\n",
              "      <td>[54629]</td>\n",
              "      <td>[55594]</td>\n",
              "    </tr>\n",
              "  </tbody>\n",
              "</table>\n",
              "<p>5 rows × 32 columns</p>\n",
              "</div>\n",
              "      <button class=\"colab-df-convert\" onclick=\"convertToInteractive('df-109134ac-4275-4923-b1ff-44de265c48d3')\"\n",
              "              title=\"Convert this dataframe to an interactive table.\"\n",
              "              style=\"display:none;\">\n",
              "        \n",
              "  <svg xmlns=\"http://www.w3.org/2000/svg\" height=\"24px\"viewBox=\"0 0 24 24\"\n",
              "       width=\"24px\">\n",
              "    <path d=\"M0 0h24v24H0V0z\" fill=\"none\"/>\n",
              "    <path d=\"M18.56 5.44l.94 2.06.94-2.06 2.06-.94-2.06-.94-.94-2.06-.94 2.06-2.06.94zm-11 1L8.5 8.5l.94-2.06 2.06-.94-2.06-.94L8.5 2.5l-.94 2.06-2.06.94zm10 10l.94 2.06.94-2.06 2.06-.94-2.06-.94-.94-2.06-.94 2.06-2.06.94z\"/><path d=\"M17.41 7.96l-1.37-1.37c-.4-.4-.92-.59-1.43-.59-.52 0-1.04.2-1.43.59L10.3 9.45l-7.72 7.72c-.78.78-.78 2.05 0 2.83L4 21.41c.39.39.9.59 1.41.59.51 0 1.02-.2 1.41-.59l7.78-7.78 2.81-2.81c.8-.78.8-2.07 0-2.86zM5.41 20L4 18.59l7.72-7.72 1.47 1.35L5.41 20z\"/>\n",
              "  </svg>\n",
              "      </button>\n",
              "      \n",
              "  <style>\n",
              "    .colab-df-container {\n",
              "      display:flex;\n",
              "      flex-wrap:wrap;\n",
              "      gap: 12px;\n",
              "    }\n",
              "\n",
              "    .colab-df-convert {\n",
              "      background-color: #E8F0FE;\n",
              "      border: none;\n",
              "      border-radius: 50%;\n",
              "      cursor: pointer;\n",
              "      display: none;\n",
              "      fill: #1967D2;\n",
              "      height: 32px;\n",
              "      padding: 0 0 0 0;\n",
              "      width: 32px;\n",
              "    }\n",
              "\n",
              "    .colab-df-convert:hover {\n",
              "      background-color: #E2EBFA;\n",
              "      box-shadow: 0px 1px 2px rgba(60, 64, 67, 0.3), 0px 1px 3px 1px rgba(60, 64, 67, 0.15);\n",
              "      fill: #174EA6;\n",
              "    }\n",
              "\n",
              "    [theme=dark] .colab-df-convert {\n",
              "      background-color: #3B4455;\n",
              "      fill: #D2E3FC;\n",
              "    }\n",
              "\n",
              "    [theme=dark] .colab-df-convert:hover {\n",
              "      background-color: #434B5C;\n",
              "      box-shadow: 0px 1px 3px 1px rgba(0, 0, 0, 0.15);\n",
              "      filter: drop-shadow(0px 1px 2px rgba(0, 0, 0, 0.3));\n",
              "      fill: #FFFFFF;\n",
              "    }\n",
              "  </style>\n",
              "\n",
              "      <script>\n",
              "        const buttonEl =\n",
              "          document.querySelector('#df-109134ac-4275-4923-b1ff-44de265c48d3 button.colab-df-convert');\n",
              "        buttonEl.style.display =\n",
              "          google.colab.kernel.accessAllowed ? 'block' : 'none';\n",
              "\n",
              "        async function convertToInteractive(key) {\n",
              "          const element = document.querySelector('#df-109134ac-4275-4923-b1ff-44de265c48d3');\n",
              "          const dataTable =\n",
              "            await google.colab.kernel.invokeFunction('convertToInteractive',\n",
              "                                                     [key], {});\n",
              "          if (!dataTable) return;\n",
              "\n",
              "          const docLinkHtml = 'Like what you see? Visit the ' +\n",
              "            '<a target=\"_blank\" href=https://colab.research.google.com/notebooks/data_table.ipynb>data table notebook</a>'\n",
              "            + ' to learn more about interactive tables.';\n",
              "          element.innerHTML = '';\n",
              "          dataTable['output_type'] = 'display_data';\n",
              "          await google.colab.output.renderOutput(dataTable, element);\n",
              "          const docLink = document.createElement('div');\n",
              "          docLink.innerHTML = docLinkHtml;\n",
              "          element.appendChild(docLink);\n",
              "        }\n",
              "      </script>\n",
              "    </div>\n",
              "  </div>\n",
              "  "
            ]
          },
          "metadata": {},
          "execution_count": 25
        }
      ],
      "source": [
        "GDPcap = gb_df.GDPcap.unique().unstack().dropna(thresh=16)\n",
        "GDPcap.sample(5)"
      ]
    },
    {
      "cell_type": "code",
      "execution_count": 26,
      "metadata": {
        "colab": {
          "base_uri": "https://localhost:8080/"
        },
        "id": "LXJbmJ0k6dA5",
        "outputId": "a626de4b-32df-40d1-c88d-308956dc81a7"
      },
      "outputs": [
        {
          "output_type": "stream",
          "name": "stdout",
          "text": [
            "Average corelation coefficent: 0.88\n"
          ]
        }
      ],
      "source": [
        "avg_r = 0\n",
        "for i in range(GDPcap.shape[0]):\n",
        "    X = GDPcap.iloc[i].dropna().apply(lambda x: x[0])\n",
        "    Y = np.array(X.index)\n",
        "    X = np.array((X - X.mean()) / X.std())\n",
        "    Y = (Y - Y.mean()) / Y.std()\n",
        "    avg_r += np.mean(X * Y) / GDPcap.shape[0]\n",
        "print(\"Average corelation coefficent:\", np.round(avg_r, 2))"
      ]
    },
    {
      "cell_type": "markdown",
      "metadata": {
        "id": "mXkbWEFD6dA6"
      },
      "source": [
        "GDP per population increase over time, which means people are having better living condition, and there should be less suicides, right? In <span class=\"burk\">Question 2</span> we discovered that suicide rate trend is different for each country. **It means that a better quality of life does not always make people happier, or simply put: \"Money doesn't always make you happy\".**"
      ]
    },
    {
      "cell_type": "markdown",
      "metadata": {
        "id": "C-Q3wMpb6dA7"
      },
      "source": [
        "### <span class=\"burk\">Question 4</span> ***Over years, which age group has the most suicide cases and suicide rate?***"
      ]
    },
    {
      "cell_type": "code",
      "execution_count": 27,
      "metadata": {
        "id": "YbcNxEvH6dA7"
      },
      "outputs": [],
      "source": [
        "gb_age_df = df.groupby(['year', 'age'])\n",
        "nsuicidesAge = gb_age_df.nsuicides.sum().unstack()\n",
        "crudeRateAge = (gb_age_df.nsuicides.sum() /\n",
        "                (gb_age_df.population.sum() / 100000)).unstack()"
      ]
    },
    {
      "cell_type": "code",
      "execution_count": 28,
      "metadata": {
        "colab": {
          "base_uri": "https://localhost:8080/",
          "height": 458
        },
        "id": "wfiyn4iw6dA8",
        "outputId": "20630101-c5c5-4029-dbad-b9ffa40f3a1a"
      },
      "outputs": [
        {
          "output_type": "display_data",
          "data": {
            "text/plain": [
              "<Figure size 1440x504 with 2 Axes>"
            ],
            "image/png": "[encoded data removed]"
          },
          "metadata": {
            "needs_background": "light"
          }
        }
      ],
      "source": [
        "plt.figure(figsize=[20, 7])\n",
        "plt.subplot(1, 2, 1)\n",
        "plt.plot(nsuicidesAge)\n",
        "plt.legend(nsuicidesAge.columns)\n",
        "plt.title(\"Change in number of suicides each age group\")\n",
        "plt.ylabel(\"Number of suicides\")\n",
        "plt.xlabel(\"Year\")\n",
        "plt.subplot(1, 2, 2)\n",
        "plt.plot(crudeRateAge)\n",
        "plt.legend(crudeRateAge.columns)\n",
        "plt.title(\"Change in crude rate each age group\")\n",
        "plt.ylabel(\"Crude rate\")\n",
        "plt.xlabel(\"Year\");"
      ]
    },
    {
      "cell_type": "markdown",
      "metadata": {
        "id": "da7CwPqc6dA9"
      },
      "source": [
        "Group \"35-54\" and \"75+\" are the most concerning.\n",
        "- Group \"35-54\" always has the most suicide cases.\n",
        "- Group \"75+\" always has the highest suicide rate.\n",
        "\n",
        "This means:\n",
        "- If there is a person died of suicide then chances are he/she belongs to age group \"35-54\".\n",
        "- People aged 75+ have the highest risk of suicide."
      ]
    },
    {
      "cell_type": "markdown",
      "metadata": {
        "id": "zu0YBp956dA-"
      },
      "source": [
        "### <span class=\"burk\">Question 5</span> ***Gender-related differences***"
      ]
    },
    {
      "cell_type": "code",
      "execution_count": 29,
      "metadata": {
        "id": "hKca_Sak6dA-"
      },
      "outputs": [],
      "source": [
        "gender_gb_df = df.groupby(['year', 'gender'])\n",
        "gender_rate = (gender_gb_df.nsuicides.sum() /\n",
        "               (gender_gb_df.population.sum() / 100000)).unstack()"
      ]
    },
    {
      "cell_type": "code",
      "execution_count": 30,
      "metadata": {
        "colab": {
          "base_uri": "https://localhost:8080/",
          "height": 266
        },
        "id": "qSmR3GKj6dA_",
        "outputId": "13376e62-3672-4b74-c5da-832465210570"
      },
      "outputs": [
        {
          "output_type": "display_data",
          "data": {
            "text/plain": [
              "<Figure size 432x288 with 1 Axes>"
            ],
            "image/png": "[encoded data removed]"
          },
          "metadata": {
            "needs_background": "light"
          }
        }
      ],
      "source": [
        "plt.plot(gender_rate, marker='o')\n",
        "plt.legend(gender_rate.columns);"
      ]
    },
    {
      "cell_type": "markdown",
      "metadata": {
        "id": "wTzkV1eR6dBA"
      },
      "source": [
        "- Female suicide rate generally decreases over time\n",
        "- Male suicide rate peaked in 1995 and then declined thereafter.\n",
        "- Men have a higher risk of suicide than women.\n"
      ]
    },
    {
      "cell_type": "markdown",
      "metadata": {
        "id": "LinEAz9x6dBC"
      },
      "source": [
        "---"
      ]
    },
    {
      "cell_type": "markdown",
      "metadata": {
        "id": "h0N9_tIm6dBE"
      },
      "source": [
        "# References"
      ]
    },
    {
      "cell_type": "markdown",
      "metadata": {
        "id": "dS3-lSm56dBE"
      },
      "source": [
        "[Hey you!! Suicide is not a solution](https://www.kaggle.com/snanilim/hey-you-suicide-is-not-a-solution)\n",
        "\n",
        "[Suicides over different perspectives](https://www.kaggle.com/papeloto/suicides-over-different-perspectives)\n",
        "\n",
        "[The Whys and Hows of Generations Research](https://www.pewresearch.org/politics/2015/09/03/the-whys-and-hows-of-generations-research/)"
      ]
    }
  ],
  "metadata": {
    "kernelspec": {
      "display_name": "Python 3",
      "language": "python",
      "name": "python3"
    },
    "language_info": {
      "codemirror_mode": {
        "name": "ipython",
        "version": 3
      },
      "file_extension": ".py",
      "mimetype": "text/x-python",
      "name": "python",
      "nbconvert_exporter": "python",
      "pygments_lexer": "ipython3",
      "version": "3.7.7"
    },
    "toc": {
      "base_numbering": 1,
      "nav_menu": {
        "height": "645px",
        "width": "664px"
      },
      "number_sections": true,
      "sideBar": true,
      "skip_h1_title": false,
      "title_cell": "Table of Contents",
      "title_sidebar": "Contents",
      "toc_cell": false,
      "toc_position": {
        "height": "calc(100% - 180px)",
        "left": "10px",
        "top": "150px",
        "width": "176.867px"
      },
      "toc_section_display": true,
      "toc_window_display": false
    },
    "colab": {
      "provenance": []
    }
  },
  "nbformat": 4,
  "nbformat_minor": 0
}